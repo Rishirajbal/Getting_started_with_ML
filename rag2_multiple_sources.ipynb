{
 "cells": [
  {
   "cell_type": "code",
   "execution_count": 9,
   "id": "e4163d7c",
   "metadata": {},
   "outputs": [],
   "source": [
    "from langchain_groq import ChatGroq\n",
    "import os\n",
    "os.environ[\"GROQ_API_KEY\"]=\"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\"\n",
    "model=ChatGroq(model=\"meta-llama/llama-4-scout-17b-16e-instruct\",temperature=0.2)\n"
   ]
  },
  {
   "cell_type": "code",
   "execution_count": null,
   "id": "d450ad77",
   "metadata": {},
   "outputs": [],
   "source": [
    "from langchain.agents import initialize_agent, AgentType,load_tools\n",
    "import os\n",
    "os.environ[\"SERPAPI_API_KEY\"]=\"your api here\"\n",
    "tools=load_tools([\"serpapi\"],llm=model)\n",
    "agent=initialize_agent(\n",
    "    tools=tools,\n",
    "    llm=model,\n",
    "    agent=AgentType.ZERO_SHOT_REACT_DESCRIPTION,\n",
    "    verbose=True\n",
    ")\n",
    "\n",
    "agent.run(\"Who is Rishiraj Bal of kiit?get a detailed report of him about his everything give links to his accounts and also track his github account named https://github.com/Rishirajbal\")"
   ]
  },
  {
   "cell_type": "code",
   "execution_count": null,
   "id": "631b95ca",
   "metadata": {},
   "outputs": [],
   "source": [
    "from langchain_community.utilities import WikipediaAPIWrapper\n",
    "from langchain_community.tools import WikipediaQueryRun\n",
    "\n",
    "wiki = WikipediaAPIWrapper(top_k_results=3, doc_content_char_max=200)\n",
    "result = wiki.run(\"Who is rahul bal jnli?\")\n",
    "tool=WikipediaQueryRun(api_wrapper=wiki, llm=model)\n",
    "tool.run(\"Who is christopher nolan?\")"
   ]
  },
  {
   "cell_type": "code",
   "execution_count": null,
   "id": "85f097c6",
   "metadata": {},
   "outputs": [],
   "source": [
    "from langchain_community.document_loaders import WebBaseLoader\n",
    "from bs4 import SoupStrainer\n",
    "loader=WebBaseLoader(web_path=\"https://python.langchain.com/docs/integrations/tools/\",\n",
    "bs_kwargs=dict(\n",
    "    parse_only=SoupStrainer(class_=\"theme-doc-markdown markdown\")))\n",
    "\n",
    "result=loader.load()\n",
    "result    "
   ]
  },
  {
   "cell_type": "code",
   "execution_count": null,
   "id": "98c23559",
   "metadata": {},
   "outputs": [],
   "source": [
    "from langchain.text_splitter import RecursiveCharacterTextSplitter\n",
    "from langchain_community.vectorstores import FAISS\n",
    "from langchain.chains.combine_documents import create_stuff_documents_chain\n",
    "from langchain.chains import create_retrieval_chain\n",
    "from langchain_huggingface import HuggingFaceEmbeddings\n",
    "from langchain.prompts import ChatPromptTemplate\n",
    "from langchain_groq import ChatGroq\n",
    "import os\n",
    "from langchain_community.document_loaders import WebBaseLoader\n",
    "from bs4 import SoupStrainer\n",
    "\n",
    "loader = WebBaseLoader(\n",
    "    web_path=\"https://python.langchain.com/docs/integrations/tools/\",\n",
    "    bs_kwargs=dict(parse_only=SoupStrainer(class_=\"theme-doc-markdown markdown\"))\n",
    ")\n",
    "\n",
    "result = loader.load()\n",
    "\n",
    "os.environ[\"GROQ_API_KEY\"] = \"your api key\"\n",
    "\n",
    "model = ChatGroq(model=\"meta-llama/llama-4-scout-17b-16e-instruct\", temperature=0.2)\n",
    "\n",
    "split = RecursiveCharacterTextSplitter(chunk_size=1000, chunk_overlap=200)\n",
    "text = split.split_documents(result)\n",
    "\n",
    "embeddings = HuggingFaceEmbeddings(model_name=\"sentence-transformers/all-mpnet-base-v2\")\n",
    "db = FAISS.from_documents(text, embeddings)\n",
    "\n",
    "prompt = ChatPromptTemplate.from_template(\n",
    "    \"\"\"You are an intelligent, talkative, and precise AI.\n",
    "You will answer the user's question based on the following context:\n",
    "<context>\n",
    "{context}\n",
    "</context>\n",
    "\n",
    "Question: {input}\n",
    "\n",
    "Respond in a friendly and informative way. Be accurate, as you're in a competition with another AI.\"\"\"\n",
    ")\n",
    "\n",
    "chain = create_stuff_documents_chain(model, prompt)\n",
    "retriever = db.as_retriever()\n",
    "chain2 = create_retrieval_chain(retriever, chain)\n",
    "\n",
    "response = chain2.invoke({\"input\": \"What is langchain?\"})\n",
    "print(response[\"answer\"])\n"
   ]
  }
 ],
 "metadata": {
  "kernelspec": {
   "display_name": "myenv",
   "language": "python",
   "name": "python3"
  },
  "language_info": {
   "codemirror_mode": {
    "name": "ipython",
    "version": 3
   },
   "file_extension": ".py",
   "mimetype": "text/x-python",
   "name": "python",
   "nbconvert_exporter": "python",
   "pygments_lexer": "ipython3",
   "version": "3.12.4"
  }
 },
 "nbformat": 4,
 "nbformat_minor": 5
}
