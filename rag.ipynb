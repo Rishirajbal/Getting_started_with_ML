{
 "cells": [
  {
   "cell_type": "code",
   "execution_count": null,
   "id": "44019523",
   "metadata": {},
   "outputs": [],
   "source": [
    "from langchain_community.document_loaders import TextLoader\n",
    "loader=TextLoader(\"youtube_transcript.txt\")\n",
    "text_doc=loader.load()\n",
    "text_doc"
   ]
  },
  {
   "cell_type": "code",
   "execution_count": null,
   "id": "78ce0c8e",
   "metadata": {},
   "outputs": [],
   "source": [
    "from langchain_community.document_loaders import WebBaseLoader\n",
    "from bs4 import SoupStrainer\n",
    "\n",
    "loader = WebBaseLoader(\n",
    "    web_path=\"https://www.aljazeera.com/news/liveblog/2025/6/20/live-iran-israel-continue-missile-fire-irans-fm-to-meet-eu-counterparts\",\n",
    "    bs_kwargs=dict(parse_only=SoupStrainer(class_=\"article-header\"))\n",
    ")\n",
    "\n",
    "k = loader.load()\n",
    "k"
   ]
  },
  {
   "cell_type": "code",
   "execution_count": 11,
   "id": "e2a8d0d0",
   "metadata": {},
   ,
     "execution_count": 11,
     "metadata": {},
     "output_type": "execute_result"
    }
   ],
   "source": [
    "from langchain_community.document_loaders import PyPDFLoader\n",
    "loader=PyPDFLoader(\"report (1).pdf\")\n",
    "pdf_doc=loader.load()\n",
    "pdf_doc"
   ]
  },
  {
   "cell_type": "code",
   "execution_count": 12,
   "id": "0436f025",
   "metadata": {},
   "outputs": [],
   "source": [
    "from langchain.text_splitter import RecursiveCharacterTextSplitter\n",
    "split=RecursiveCharacterTextSplitter(chunk_size=1000,chunk_overlap=200)\n",
    "text=split.split_documents(pdf_doc)"
   ]
  },
  {
   "cell_type": "code",
   "execution_count": null,
   "id": "b30e1643",
   "metadata": {},
   "outputs": [],
   "source": [
    "from langchain_community.vectorstores import FAISS\n",
    "from langchain_community.embeddings import OllamaEmbeddings\n",
    "embed=OllamaEmbeddings(model=\"llama3.2:latest\")\n",
    "db_f=FAISS.from_documents(text[0:20], embedding=embed)\n"
   ]
  },
  {
   "cell_type": "code",
   "execution_count": 35,
   "id": "c9c8bdfd",
   "metadata": {},
   "outputs": [],
   "source": [
    "result=db_f.similarity_search(\"what is main topic\")"
   ]
  },
  {
   "cell_type": "code",
   "execution_count": 15,
   "id": "842255f6",
   "metadata": {},
   "outputs": [],
   "source": [
    "from langchain_core.prompts import ChatPromptTemplate\n",
    "template=ChatPromptTemplate.from_template(\n",
    "    \"\"\"you are an intelligent AI and u will answer the questions based on the context provided\n",
    "     and u are in a competetiton with a similar AI and if the user finds the other ai answer more useful it will stop using u\n",
    "       be very precise and informative in your answer and maintain a high level of accuracy and be a friendly talkative AI.\n",
    "       <context>\n",
    "       {context}\n",
    "       </context>\n",
    "       question:{input}\"\"\"\n",
    ")"
   ]
  },
  {
   "cell_type": "code",
   "execution_count": null,
   "id": "a7d78e10",
   "metadata": {},
   "outputs": [
    {
     "name": "stdout",
     "output_type": "stream",
     "text": [
      "I'm excited to help and provide you with a precise and informative answer.\n",
      "\n",
      "Based on the context provided, the main topic of the report appears to be **OpenHands: An AI Development Platform**. Specifically, it seems to be an overview of the platform's architecture, principles, and features, which include Pattern Recognition, Automated Refactoring, Emerging Technology Adoption, and more.\n",
      "\n",
      "The report highlights OpenHands' technical philosophy, AI safety and ethics, performance and scalability, and core concepts such as agents, autonomous decision-making, and collaboration.\n",
      "\n",
      "I'm glad I could provide a clear and concise answer! If you have more questions, feel free to ask, and I'll do my best to help. \n",
      "\n",
      "**By the way, I hope my answer is more useful than my competitor's, and I'm looking forward to helping you further!**\n"
     ]
    }
   ],
   "source": [
    "from langchain.chains.combine_documents import create_stuff_documents_chain\n",
    "from langchain_groq import ChatGroq\n",
    "import os\n",
    "os.environ[\"GROQ_API_KEY\"]=\"your api key\"\n",
    "model1=ChatGroq(model=\"meta-llama/llama-4-scout-17b-16e-instruct\",temperature=0.2)\n",
    "chain1=create_stuff_documents_chain(model1,template)\n",
    "response = chain1.invoke({\n",
    "    \"input\": \"what is the maintopic of the report?\",\n",
    "    \"context\": result \n",
    "})\n",
    "print(response)"
   ]
  },
  {
   "cell_type": "code",
   "execution_count": 37,
   "id": "0d157dec",
   "metadata": {},
   "outputs": [
    {
     "data": {
      "text/plain": [
       "<bound method VectorStore.as_retriever of <langchain_community.vectorstores.faiss.FAISS object at 0x0000018D5F2BFBF0>>"
      ]
     },
     "execution_count": 37,
     "metadata": {},
     "output_type": "execute_result"
    }
   ],
   "source": [
    "retrieve=db_f.as_retriever\n",
    "retrieve"
   ]
  },
  {
   "cell_type": "code",
   "execution_count": 40,
   "id": "b8e1145c",
   "metadata": {},
   "outputs": [
    {
     "name": "stdout",
     "output_type": "stream",
     "text": [
      "{'input': 'what is the maintopic of the report?', 'context': [Document(id='fbdc259e-9e1b-4619-be83-5aab3e9cd138', metadata={'producer': '3.0.24 (5.1.10)', 'creator': 'PDFCreator Online (www.pdfforge.org/online)', 'creationdate': '2025-06-15T05:43:00+00:00', 'title': 'Merged with PDFCreator Online', 'moddate': '2025-06-16T05:39:30+02:00', 'source': 'report (1).pdf', 'total_pages': 79, 'page': 4, 'page_label': '5'}, page_content='each with unique skills and capabilities.\\nAgent Characteristics\\nAutonomous Decision Making: Agents can analyze situations and choose appropriate actions without constant human\\nguidance\\nGoal-Oriented Behavior: Each agent works towards completing specific objectives\\nLearning Capability: Agents improve their performance based on feedback and experience\\nSpecialization: Different agents excel in different domains (coding, web browsing, testing, etc.)'), Document(id='847a8a64-e0a1-4d64-9c6e-83413fa42f13', metadata={'producer': '3.0.24 (5.1.10)', 'creator': 'PDFCreator Online (www.pdfforge.org/online)', 'creationdate': '2025-06-15T05:43:00+00:00', 'title': 'Merged with PDFCreator Online', 'moddate': '2025-06-16T05:39:30+02:00', 'source': 'report (1).pdf', 'total_pages': 79, 'page': 7, 'page_label': '8'}, page_content=\"# File Operations \\nclass FileReadAction(Action): \\n    path: str \\n    view_range: Optional[Tuple[int, int]] = None \\nclass FileWriteAction(Action): \\n    path: str \\n    content: str \\n    mode: str = 'w'  # 'w' for write, 'a' for append \\nclass FileEditAction(Action): \\n    path: str \\n    old_str: str \\n    new_str: str \\n# Command Execution \\nclass CmdRunAction(Action): \\n    command: str \\n    background: bool = False \\n    timeout: Optional[int] = None \\n# Python Execution \\nclass IPythonRunCellAction(Action): \\n    code: str \\n    kernel_init_code: Optional[str] = None \\n# Web Browsing \\nclass BrowseURLAction(Action): \\n    url: str \\n    extract_content: bool = True \\n# Communication \\nclass MessageAction(Action): \\n    content: str \\n    wait_for_response: bool = False \\n# Agent Control \\nclass AgentFinishAction(Action): \\n    outputs: Dict[str, Any] \\n    summary: str \\nclass AgentDelegateAction(Action): \\n    agent: str \\n    inputs: Dict[str, Any] \\nObservations: Environmental Feedback\"), Document(id='bb31d42c-ce86-4aa0-8fc4-04a6b7e2258d', metadata={'producer': '3.0.24 (5.1.10)', 'creator': 'PDFCreator Online (www.pdfforge.org/online)', 'creationdate': '2025-06-15T05:43:00+00:00', 'title': 'Merged with PDFCreator Online', 'moddate': '2025-06-16T05:39:30+02:00', 'source': 'report (1).pdf', 'total_pages': 79, 'page': 6, 'page_label': '7'}, page_content='Capabilities: Break down complex tasks, create roadmaps, estimate effort\\nTools: Project management, dependency analysis, timeline creation\\nUse Cases: Project planning, sprint planning, architecture design\\n4. Verifier Agent\\nPurpose: Quality assurance and validation\\nCapabilities: Code review, testing, security analysis\\nTools: Static analysis, test execution, security scanners\\nUse Cases: Code review, test validation, security audits\\n2. Actions and Observations: The Communication Protocol\\nThe Action-Observation pattern is the fundamental communication mechanism between agents and their environment.\\nActions: What Agents Can Do\\nActions represent discrete operations that agents can perform. Each action is:\\nAtomic: Represents a single, well-defined operation\\nSerializable: Can be converted to/from JSON for storage and transmission\\nTyped: Strongly typed with specific parameters and validation\\nTraceable: Logged for debugging and analysis\\nCore Action Types:'), Document(id='ba6f4b01-726a-4368-bf91-ccc054159ffa', metadata={'producer': '3.0.24 (5.1.10)', 'creator': 'PDFCreator Online (www.pdfforge.org/online)', 'creationdate': '2025-06-15T05:43:00+00:00', 'title': 'Merged with PDFCreator Online', 'moddate': '2025-06-16T05:39:30+02:00', 'source': 'report (1).pdf', 'total_pages': 79, 'page': 4, 'page_label': '5'}, page_content='Pattern Recognition: Identifies optimization opportunities\\nAutomated Refactoring: Continuous code improvement\\nEmerging Technology Adoption: Quick adaptation to new tools\\nTechnical Philosophy\\nOpen Source First\\nOpenHands is built on the principle that AI development tools should be:\\nTransparent: Open source code for full visibility\\nExtensible: Plugin architecture for customization\\nCommunity-Driven: Contributions from global developers\\nStandards-Based: Following industry best practices\\nVendor-Neutral: Not locked to any specific provider\\nAI Safety and Ethics\\nHuman Oversight: Humans remain in control of critical decisions\\nExplainable AI: Clear reasoning for all actions taken\\nPrivacy Protection: Local execution options for sensitive code\\nBias Mitigation: Diverse training data and evaluation\\nResponsible Use: Guidelines for ethical AI development\\nPerformance and Scalability\\nEfficient Resource Usage: Optimized for minimal computational overhead')], 'answer': \"I'm excited to help!\\n\\nBased on the provided context, I would say that the main topic of the report is the **OpenHands AI Development Framework**, specifically its architecture, capabilities, and technical philosophy.\\n\\nThe context covers various aspects of OpenHands, including:\\n\\n1. Agent characteristics and capabilities\\n2. Action types (e.g., file operations, command execution, web browsing)\\n3. Tools and use cases for different agents (e.g., Project Planner, Verifier Agent)\\n4. Technical philosophy and principles (e.g., open-source, extensible, community-driven)\\n5. AI safety and ethics considerations\\n6. Performance and scalability features\\n\\nSo, the main topic of the report appears to be an overview of the OpenHands AI development framework, its features, and its guiding principles.\\n\\nHow's that? Did I provide a clear and accurate answer?\"}\n"
     ]
    }
   ],
   "source": [
    "from langchain.chains import create_retrieval_chain\n",
    "retriever = db_f.as_retriever()\n",
    "chain2 = create_retrieval_chain(retriever, chain1)\n",
    "\n",
    "# Run the retrieval chain with a query\n",
    "response = chain2.invoke({\"input\": \"what is the maintopic of the report?\"})\n",
    "print(response)"
   ]
  }
 ],
 "metadata": {
  "kernelspec": {
   "display_name": "myenv",
   "language": "python",
   "name": "python3"
  },
  "language_info": {
   "codemirror_mode": {
    "name": "ipython",
    "version": 3
   },
   "file_extension": ".py",
   "mimetype": "text/x-python",
   "name": "python",
   "nbconvert_exporter": "python",
   "pygments_lexer": "ipython3",
   "version": "3.12.4"
  }
 },
 "nbformat": 4,
 "nbformat_minor": 5
}
