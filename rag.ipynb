{
 "cells": [
  {
   "cell_type": "code",
   "execution_count": null,
   "id": "44019523",
   "metadata": {},
   "outputs": [],
   "source": [
    "from langchain_community.document_loaders import TextLoader\n",
    "loader=TextLoader(\"youtube_transcript.txt\")\n",
    "text_doc=loader.load()\n",
    "text_doc"
   ]
  },
  {
   "cell_type": "code",
   "execution_count": null,
   "id": "78ce0c8e",
   "metadata": {},
   "outputs": [],
   "source": [
    "from langchain_community.document_loaders import WebBaseLoader\n",
    "from bs4 import SoupStrainer\n",
    "\n",
    "loader = WebBaseLoader(\n",
    "    web_path=\"https://www.aljazeera.com/news/liveblog/2025/6/20/live-iran-israel-continue-missile-fire-irans-fm-to-meet-eu-counterparts\",\n",
    "    bs_kwargs=dict(parse_only=SoupStrainer(class_=\"article-header\"))\n",
    ")\n",
    "\n",
    "k = loader.load()\n",
    "k"
   ]
  },
  {
   "cell_type": "code",
   "execution_count": null,
   "id": "e2a8d0d0",
   "metadata": {},
   "outputs": [],
   "source": [
    "from langchain_community.document_loaders import PyPDFLoader\n",
    "loader=PyPDFLoader(\"report (1).pdf\")\n",
    "pdf_doc=loader.load()\n",
    "pdf_doc"
   ]
  },
  {
   "cell_type": "code",
   "execution_count": 12,
   "id": "0436f025",
   "metadata": {},
   "outputs": [],
   "source": [
    "from langchain.text_splitter import RecursiveCharacterTextSplitter\n",
    "split=RecursiveCharacterTextSplitter(chunk_size=1000,chunk_overlap=200)\n",
    "text=split.split_documents(pdf_doc)"
   ]
  },
  {
   "cell_type": "code",
   "execution_count": null,
   "id": "b30e1643",
   "metadata": {},
   "outputs": [],
   "source": [
    "from langchain_community.vectorstores import FAISS\n",
    "from langchain_community.embeddings import OllamaEmbeddings\n",
    "embed=OllamaEmbeddings(model=\"llama3.2:latest\")\n",
    "db_f=FAISS.from_documents(text[0:20], embedding=embed)\n"
   ]
  },
  {
   "cell_type": "code",
   "execution_count": 35,
   "id": "c9c8bdfd",
   "metadata": {},
   "outputs": [],
   "source": [
    "result=db_f.similarity_search(\"what is main topic\")"
   ]
  },
  {
   "cell_type": "code",
   "execution_count": 15,
   "id": "842255f6",
   "metadata": {},
   "outputs": [],
   "source": [
    "from langchain_core.prompts import ChatPromptTemplate\n",
    "template=ChatPromptTemplate.from_template(\n",
    "    \"\"\"you are an intelligent AI and u will answer the questions based on the context provided\n",
    "     and u are in a competetiton with a similar AI and if the user finds the other ai answer more useful it will stop using u\n",
    "       be very precise and informative in your answer and maintain a high level of accuracy and be a friendly talkative AI.\n",
    "       <context>\n",
    "       {context}\n",
    "       </context>\n",
    "       question:{input}\"\"\"\n",
    ")"
   ]
  },
  {
   "cell_type": "code",
   "execution_count": null,
   "id": "a7d78e10",
   "metadata": {},
   "outputs": [],
   "source": [
    "from langchain.chains.combine_documents import create_stuff_documents_chain\n",
    "from langchain_groq import ChatGroq\n",
    "import os\n",
    "os.environ[\"GROQ_API_KEY\"]=\"your api key\"\n",
    "model1=ChatGroq(model=\"meta-llama/llama-4-scout-17b-16e-instruct\",temperature=0.2)\n",
    "chain1=create_stuff_documents_chain(model1,template)\n",
    "response = chain1.invoke({\n",
    "    \"input\": \"what is the maintopic of the report?\",\n",
    "    \"context\": result \n",
    "})\n",
    "print(response)"
   ]
  },
  {
   "cell_type": "code",
   "execution_count": null,
   "id": "0d157dec",
   "metadata": {},
   "outputs": [],
   "source": [
    "retrieve=db_f.as_retriever\n",
    "retrieve"
   ]
  },
  {
   "cell_type": "code",
   "execution_count": null,
   "id": "b8e1145c",
   "metadata": {},
   "outputs": [],
   "source": [
    "from langchain.chains import create_retrieval_chain\n",
    "retriever = db_f.as_retriever()\n",
    "chain2 = create_retrieval_chain(retriever, chain1)\n",
    "\n",
    "# Run the retrieval chain with a query\n",
    "response = chain2.invoke({\"input\": \"what is the maintopic of the report?\"})\n",
    "print(response)"
   ]
  }
 ],
 "metadata": {
  "kernelspec": {
   "display_name": "myenv",
   "language": "python",
   "name": "python3"
  },
  "language_info": {
   "codemirror_mode": {
    "name": "ipython",
    "version": 3
   },
   "file_extension": ".py",
   "mimetype": "text/x-python",
   "name": "python",
   "nbconvert_exporter": "python",
   "pygments_lexer": "ipython3",
   "version": "3.12.4"
  }
 },
 "nbformat": 4,
 "nbformat_minor": 5
}
